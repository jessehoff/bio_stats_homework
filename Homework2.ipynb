{
 "cells": [
  {
   "cell_type": "code",
   "execution_count": 10,
   "metadata": {
    "collapsed": false
   },
   "outputs": [],
   "source": [
    "import pandas as pd\n",
    "import numpy as np\n",
    "from pandas import DataFrame\n",
    "from pandas import Series\n",
    "from numpy import nan\n",
    "import matplotlib.pyplot as plt\n",
    "import random as rand\n",
    "from collections import defaultdict\n",
    "from collections import Counter\n",
    "%matplotlib inline \n",
    "plt.style.use('ggplot')"
   ]
  },
  {
   "cell_type": "code",
   "execution_count": 3,
   "metadata": {
    "collapsed": false
   },
   "outputs": [
    {
     "data": {
      "text/plain": [
       "95"
      ]
     },
     "execution_count": 3,
     "metadata": {},
     "output_type": "execute_result"
    }
   ],
   "source": [
    "rand.randint(1,100)"
   ]
  },
  {
   "cell_type": "markdown",
   "metadata": {},
   "source": [
    "Following the description in Classnotes 1 on Empirical Method of Gene Mapping:\n",
    "Direct-IBD Mapping (Cheung et al. 1998) write a computer code or function that can\n",
    "calculate and draw the frequency table and histogram for Gene Mapping. The input\n",
    "of the function should be length of the DNA sequence (L), number of fragments,\n",
    "length of each fragment (ij), and number of Monte Carlo samples. Based on these\n",
    "the computer program should output the frequency table and the histogram\n",
    "representing the empirical distribution of M (the maximum number of overlap).\n",
    "Make the computer code as much user friendly as possible. (50 points)"
   ]
  },
  {
   "cell_type": "code",
   "execution_count": 4,
   "metadata": {
    "collapsed": true
   },
   "outputs": [],
   "source": [
    "overlap = defaultdict(int)"
   ]
  },
  {
   "cell_type": "code",
   "execution_count": 5,
   "metadata": {
    "collapsed": false
   },
   "outputs": [
    {
     "data": {
      "text/plain": [
       "0"
      ]
     },
     "execution_count": 5,
     "metadata": {},
     "output_type": "execute_result"
    }
   ],
   "source": [
    "overlap[10]"
   ]
  },
  {
   "cell_type": "code",
   "execution_count": 6,
   "metadata": {
    "collapsed": true
   },
   "outputs": [],
   "source": [
    "segments = [8,6,6,5,5,5,4]"
   ]
  },
  {
   "cell_type": "code",
   "execution_count": 7,
   "metadata": {
    "collapsed": false
   },
   "outputs": [],
   "source": [
    "def overlap_matcher(segmentlist,length):\n",
    "    overlap = defaultdict(int) #this intializes an object that will store counts for corresponding values of L\n",
    "    for i in segmentlist:\n",
    "        start = rand.randint(1,length-i) #finds a random start point for one of the segments across the possible allignments\n",
    "        #print range(start,i+start),i\n",
    "        for k in range(start,i+start): # given the placement of the fragment (at position start) for the length(i) of the fragment, add to the count at that position\n",
    "            overlap[k] +=1\n",
    "    #print overlap.items()\n",
    "    return max(overlap.values())#gives the highest value of the places where overlaps exist"
   ]
  },
  {
   "cell_type": "code",
   "execution_count": 8,
   "metadata": {
    "collapsed": false
   },
   "outputs": [],
   "source": [
    "trials = []\n",
    "for i in range(10000): #repeats this function 10000 times and stores the resulting top value M\n",
    "    trials.append(overlap_matcher(segments,100))"
   ]
  },
  {
   "cell_type": "code",
   "execution_count": 11,
   "metadata": {
    "collapsed": false
   },
   "outputs": [
    {
     "data": {
      "text/plain": [
       "Counter({2: 7232, 3: 1962, 1: 645, 4: 159, 5: 2})"
      ]
     },
     "execution_count": 11,
     "metadata": {},
     "output_type": "execute_result"
    }
   ],
   "source": [
    "Counter(trials)"
   ]
  },
  {
   "cell_type": "code",
   "execution_count": 72,
   "metadata": {
    "collapsed": false
   },
   "outputs": [
    {
     "data": {
      "text/plain": [
       "<matplotlib.axes._subplots.AxesSubplot at 0x107da59d0>"
      ]
     },
     "execution_count": 72,
     "metadata": {},
     "output_type": "execute_result"
    },
    {
     "data": {
      "image/png": "[encoded data removed]",
      "text/plain": [
       "<matplotlib.figure.Figure at 0x107c54850>"
      ]
     },
     "metadata": {},
     "output_type": "display_data"
    }
   ],
   "source": [
    "pd.Series(trials).hist() #creates a histogram of these values M. "
   ]
  },
  {
   "cell_type": "markdown",
   "metadata": {
    "collapsed": true
   },
   "source": [
    "This data shows that with the short segment lengths sampled, we would not expect to see a greater than 3.0 as the maximum overlap in a sample very frequently. In fact 4 overlaps were less common than no overlaps at all. Therefore with this empircal input we would make a biological distinction between an empirical measurment of 6 and 3. Perhaps the sample with 6 has some evolutionary or even familial relationship. A sample with only 3 overlap maximum could happen over 20% of time purely by chance. "
   ]
  },
  {
   "cell_type": "code",
   "execution_count": null,
   "metadata": {
    "collapsed": true
   },
   "outputs": [],
   "source": []
  }
 ],
 "metadata": {
  "kernelspec": {
   "display_name": "Python 2",
   "language": "python",
   "name": "python2"
  },
  "language_info": {
   "codemirror_mode": {
    "name": "ipython",
    "version": 2
   },
   "file_extension": ".py",
   "mimetype": "text/x-python",
   "name": "python",
   "nbconvert_exporter": "python",
   "pygments_lexer": "ipython2",
   "version": "2.7.10"
  }
 },
 "nbformat": 4,
 "nbformat_minor": 0
}
