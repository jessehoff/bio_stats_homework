{
 "cells": [
  {
   "cell_type": "markdown",
   "metadata": {},
   "source": [
    "Write a computer function which can calculate the log likelihood ratio test for modeling\n",
    "CpG islands. The input should be a collection of sequences from CpG islands, and a\n",
    "collection of sequences from non-CpG islands. This will be your training set. The other\n",
    "input should be a query sequence. Using the training set the transition matrices will be\n",
    "constructed and then the log-likelihood ratio statistics should be computed based on\n",
    "the query sequence and the transition probability matrix. Then you need to generate a\n",
    "p-value using Monte Carlo sampling. The number of Monte Carlo samples will also be a\n",
    "user given parameter. The Monte Carlo samples will be used to create the empirical\n",
    "distribution of the log-likelihood ratio test statistic. Attached are the two libraries, and\n",
    "couple of query sequence that you need to use to run your calculation and make your\n",
    "inference about “does it come from a CpG island?”(100 points)"
   ]
  },
  {
   "cell_type": "code",
   "execution_count": 203,
   "metadata": {
    "collapsed": false
   },
   "outputs": [],
   "source": [
    "import numpy as np\n",
    "from collections import Counter\n",
    "from collections import defaultdict\n",
    "import csv\n",
    "from itertools import *\n",
    "from pandas import DataFrame\n",
    "from pandas import Series\n",
    "from __future__ import division\n",
    "import matplotlib \n",
    "%matplotlib inline\n",
    "import matplotlib.pyplot as plt\n",
    "plt.style.use('ggplot')\n",
    "import random"
   ]
  },
  {
   "cell_type": "code",
   "execution_count": 186,
   "metadata": {
    "collapsed": true
   },
   "outputs": [],
   "source": [
    "def pairwise(iterable):\n",
    "    \"s -> (s0,s1), (s1,s2), (s2, s3), ...\"\n",
    "    a, b = tee(iterable)\n",
    "    next(b, None)\n",
    "    return izip(a, b)"
   ]
  },
  {
   "cell_type": "code",
   "execution_count": 187,
   "metadata": {
    "collapsed": false
   },
   "outputs": [],
   "source": [
    "def transitionscount_2freq(countmatrix):\n",
    "    freqmatrix = defaultdict(lambda: {'G':0,'A':0,'T':0,'C':0})\n",
    "    for i in ['A','C','G','T']:\n",
    "        itemcount = sum(countmatrix[i].values())\n",
    "        for k,v in countmatrix[i].items():    \n",
    "            freqmatrix[i][k] = v/itemcount\n",
    "    return freqmatrix"
   ]
  },
  {
   "cell_type": "code",
   "execution_count": 188,
   "metadata": {
    "collapsed": false
   },
   "outputs": [
    {
     "data": {
      "text/plain": [
       "[' [1] \"G\" \"C\" \"A\" \"A\" \"G\" \"G\" \"C\" \"C\" \"G\" \"C\" \"T\" \"C\" \"C\" \"G\" \"G\" \"G\" \"G\" \"G\" \"C\" \"C\" \"A\" \"A\" \"T\" \"G\" \"C\" \"A\" \"C\" \"G\" \"T\" \"C\"',\n",
       " '']"
      ]
     },
     "execution_count": 188,
     "metadata": {},
     "output_type": "execute_result"
    }
   ],
   "source": [
    "!!head -n 2 cpg_island.txt"
   ]
  },
  {
   "cell_type": "code",
   "execution_count": 189,
   "metadata": {
    "collapsed": false
   },
   "outputs": [
    {
     "data": {
      "text/plain": [
       "[('A', {'A': 8, 'C': 7, 'G': 26, 'T': 8}),\n",
       " ('C', {'A': 23, 'C': 31, 'G': 20, 'T': 19}),\n",
       " ('T', {'A': 1, 'C': 16, 'G': 21, 'T': 6}),\n",
       " ('G', {'A': 19, 'C': 36, 'G': 38, 'T': 11})]"
      ]
     },
     "execution_count": 189,
     "metadata": {},
     "output_type": "execute_result"
    }
   ],
   "source": [
    "cpgtransitions = defaultdict(lambda: {'G':0,'A':0,'T':0,'C':0})\n",
    "with open('cpg_island.txt', 'rb') as f:\n",
    "    for row in csv.reader(f, delimiter=' ', skipinitialspace=True):\n",
    "        if ''.join(row[1:]):\n",
    "            cpgisland = ''.join(row[1:])\n",
    "            for statei, stateiplus in pairwise(cpgisland):\n",
    "                cpgtransitions[statei][stateiplus] +=1\n",
    "cpgtransitions.items()"
   ]
  },
  {
   "cell_type": "code",
   "execution_count": 190,
   "metadata": {
    "collapsed": false,
    "scrolled": false
   },
   "outputs": [
    {
     "data": {
      "text/plain": [
       "[('A',\n",
       "  {'A': 0.16326530612244897,\n",
       "   'C': 0.14285714285714285,\n",
       "   'G': 0.5306122448979592,\n",
       "   'T': 0.16326530612244897}),\n",
       " ('C',\n",
       "  {'A': 0.24731182795698925,\n",
       "   'C': 0.3333333333333333,\n",
       "   'G': 0.21505376344086022,\n",
       "   'T': 0.20430107526881722}),\n",
       " ('T',\n",
       "  {'A': 0.022727272727272728,\n",
       "   'C': 0.36363636363636365,\n",
       "   'G': 0.4772727272727273,\n",
       "   'T': 0.13636363636363635}),\n",
       " ('G',\n",
       "  {'A': 0.18269230769230768,\n",
       "   'C': 0.34615384615384615,\n",
       "   'G': 0.36538461538461536,\n",
       "   'T': 0.10576923076923077})]"
      ]
     },
     "execution_count": 190,
     "metadata": {},
     "output_type": "execute_result"
    }
   ],
   "source": [
    "cpg_transitions = transitionscount_2freq(cpgtransitions)\n",
    "cpg_transitions.items()"
   ]
  },
  {
   "cell_type": "code",
   "execution_count": 191,
   "metadata": {
    "collapsed": false
   },
   "outputs": [
    {
     "name": "stdout",
     "output_type": "stream",
     "text": [
      "[('A', {'A': 30, 'C': 9, 'T': 17, 'G': 18}), ('C', {'A': 15, 'C': 16, 'T': 19, 'G': 8}), ('T', {'A': 15, 'C': 18, 'T': 28, 'G': 25}), ('G', {'A': 19, 'C': 14, 'T': 19, 'G': 20})]\n"
     ]
    },
    {
     "data": {
      "text/plain": [
       "[('A',\n",
       "  {'A': 0.40540540540540543,\n",
       "   'C': 0.12162162162162163,\n",
       "   'G': 0.24324324324324326,\n",
       "   'T': 0.22972972972972974}),\n",
       " ('C',\n",
       "  {'A': 0.25862068965517243,\n",
       "   'C': 0.27586206896551724,\n",
       "   'G': 0.13793103448275862,\n",
       "   'T': 0.3275862068965517}),\n",
       " ('T',\n",
       "  {'A': 0.1744186046511628,\n",
       "   'C': 0.20930232558139536,\n",
       "   'G': 0.29069767441860467,\n",
       "   'T': 0.32558139534883723}),\n",
       " ('G',\n",
       "  {'A': 0.2638888888888889,\n",
       "   'C': 0.19444444444444445,\n",
       "   'G': 0.2777777777777778,\n",
       "   'T': 0.2638888888888889})]"
      ]
     },
     "execution_count": 191,
     "metadata": {},
     "output_type": "execute_result"
    }
   ],
   "source": [
    "non_cpg_trans = defaultdict(lambda: {'G':0,'A':0,'T':0,'C':0})\n",
    "with open('non_cpg_island.txt', 'rb') as f:\n",
    "    for row in csv.reader(f, delimiter=' ', skipinitialspace=True):\n",
    "        if ''.join(row[1:]):\n",
    "            string = ''.join(row[1:])\n",
    "            for statei, stateiplus in pairwise(string):\n",
    "                non_cpg_trans[statei][stateiplus] +=1\n",
    "print non_cpg_trans.items()\n",
    "non_cpg_transitions=transitionscount_2freq(non_cpg_trans)\n",
    "non_cpg_transitions.items()"
   ]
  },
  {
   "cell_type": "code",
   "execution_count": 192,
   "metadata": {
    "collapsed": false
   },
   "outputs": [
    {
     "data": {
      "text/plain": [
       "[('A',\n",
       "  {'A': -0.90951104488877654,\n",
       "   'C': 0.16093036681263692,\n",
       "   'G': 0.77996957521886057,\n",
       "   'T': -0.34152700728283708}),\n",
       " ('C',\n",
       "  {'A': -0.044712467779896986,\n",
       "   'C': 0.18924199963852834,\n",
       "   'G': 0.44413424926731843,\n",
       "   'T': -0.4721564826068364}),\n",
       " ('T',\n",
       "  {'A': -2.0378925387669633,\n",
       "   'C': 0.55237462667886306,\n",
       "   'G': 0.49580427519046882,\n",
       "   'T': -0.87028737861190253}),\n",
       " ('G',\n",
       "  {'A': -0.3677247801253174,\n",
       "   'C': 0.576736828715534,\n",
       "   'G': 0.27412910604707724,\n",
       "   'T': -0.91426848649338721})]"
      ]
     },
     "execution_count": 192,
     "metadata": {},
     "output_type": "execute_result"
    }
   ],
   "source": [
    "logscorer = defaultdict(lambda: {'G':0,'A':0,'T':0,'C':0})\n",
    "for i in ['A','C','G','T']:\n",
    "    for k,v in cpg_transitions[i].items():    \n",
    "        logscorer[i][k] = np.log(v/non_cpg_transitions[i][k])\n",
    "logscorer.items()\n",
    " "
   ]
  },
  {
   "cell_type": "code",
   "execution_count": 219,
   "metadata": {
    "collapsed": false
   },
   "outputs": [
    {
     "name": "stdout",
     "output_type": "stream",
     "text": [
      "-4.45668478467\n"
     ]
    }
   ],
   "source": [
    "def likelihood_ratio(input):\n",
    "    return sum([logscorer[statei][stateiplus] for statei, stateiplus in pairwise(input)])\n",
    "print likelihood_ratio2('CACTAAGCTA')"
   ]
  },
  {
   "cell_type": "code",
   "execution_count": 255,
   "metadata": {
    "collapsed": false
   },
   "outputs": [],
   "source": [
    "def empiricalsampler(chooseruns):\n",
    "    likelihooddist = []\n",
    "    for j in range(chooseruns):\n",
    "        bank = ''.join(random.choice('ATCG') for i in range(30))\n",
    "        likelihooddist.append(likelihood_ratio(bank))\n",
    "    likelihooddist.sort()\n",
    "    return likelihooddist"
   ]
  },
  {
   "cell_type": "code",
   "execution_count": 256,
   "metadata": {
    "collapsed": false
   },
   "outputs": [
    {
     "data": {
      "text/plain": [
       "<matplotlib.axes._subplots.AxesSubplot at 0x10b7af750>"
      ]
     },
     "execution_count": 256,
     "metadata": {},
     "output_type": "execute_result"
    },
    {
     "data": {
      "image/png": "[encoded data removed]",
      "text/plain": [
       "<matplotlib.figure.Figure at 0x10c158c10>"
      ]
     },
     "metadata": {},
     "output_type": "display_data"
    }
   ],
   "source": [
    "Series(likelihooddist).plot(kind = 'hist')\n"
   ]
  },
  {
   "cell_type": "code",
   "execution_count": 272,
   "metadata": {
    "collapsed": false
   },
   "outputs": [],
   "source": [
    "def rank_query(sequence,samplingsize):\n",
    "    sampled = empiricalsampler(samplingsize)\n",
    "    empiricalscore = likelihood_ratio(sequence)\n",
    "    return empiricalscore,len([i for i in sampled if i < empiricalscore])/samplingsize\n"
   ]
  },
  {
   "cell_type": "code",
   "execution_count": 275,
   "metadata": {
    "collapsed": false
   },
   "outputs": [
    {
     "name": "stdout",
     "output_type": "stream",
     "text": [
      "GTATCGGGTGTCAGGCAAGT\n"
     ]
    },
    {
     "data": {
      "text/plain": [
       "(-2.0316783973619206, 0.7008)"
      ]
     },
     "execution_count": 275,
     "metadata": {},
     "output_type": "execute_result"
    }
   ],
   "source": [
    "test = '\"G\" \"T\" \"A\" \"T\" \"C\" \"G\" \"G\" \"G\" \"T\" \"G\" \"T\" \"C\" \"A\" \"G\" \"G\" \"C\" \"A\" \"A\" \"G\" \"T\"'\n",
    "stripped = test.replace('\"','')\n",
    "final=stripped.replace(' ','')\n",
    "print final\n",
    "rank_query(final,10000)\n"
   ]
  },
  {
   "cell_type": "code",
   "execution_count": 276,
   "metadata": {
    "collapsed": false
   },
   "outputs": [
    {
     "name": "stdout",
     "output_type": "stream",
     "text": [
      "CATTTTGTCAACATTGCCCT\n"
     ]
    },
    {
     "data": {
      "text/plain": [
       "(-3.9341425744769474, 0.5244)"
      ]
     },
     "execution_count": 276,
     "metadata": {},
     "output_type": "execute_result"
    }
   ],
   "source": [
    "test = '  \"C\" \"A\" \"T\" \"T\" \"T\" \"T\" \"G\" \"T\" \"C\" \"A\" \"A\" \"C\" \"A\" \"T\" \"T\" \"G\" \"C\" \"C\" \"C\" \"T\"'\n",
    "stripped = test.replace('\"','')\n",
    "final=stripped.replace(' ','')\n",
    "print final\n",
    "rank_query(final,10000)"
   ]
  },
  {
   "cell_type": "code",
   "execution_count": 277,
   "metadata": {
    "collapsed": false
   },
   "outputs": [
    {
     "name": "stdout",
     "output_type": "stream",
     "text": [
      "CCTACCGATG\n"
     ]
    },
    {
     "data": {
      "text/plain": [
       "(-1.7399479182344733, 0.72)"
      ]
     },
     "execution_count": 277,
     "metadata": {},
     "output_type": "execute_result"
    }
   ],
   "source": [
    "test = '  \"C\" \"C\" \"T\" \"A\" \"C\" \"C\" \"G\" \"A\" \"T\" \"G\"'\n",
    "stripped = test.replace('\"','')\n",
    "final=stripped.replace(' ','')\n",
    "print final\n",
    "rank_query(final,10000)"
   ]
  },
  {
   "cell_type": "markdown",
   "metadata": {},
   "source": [
    "#results\n",
    "\n",
    "The preceeding cells tested the provided sequences for the likelihood of their origin in a cpg or non cpg segment of the genome. By sampling random sequences and testing them in the model of transition probablities built on samples from cpg and non cpg sites a distribution of outcomes under this model is available for comparison to the test statistic associated with the sequences. Based on this distribtuion, all of the tested sequences originate from a non cpg island.\n",
    "\n",
    "However, none of them have test statistics associated with the extreme end of the distribution. That implies that they can not be clearly distinguished from samples randomly selected from the genome, and assignment to the non-cpg island catagory should be done with reservation. For instance, 70% of randomly sampled sequences had a more extreme test statistic than the one associated with GTATCGGGTGTCAGGCAAGT"
   ]
  },
  {
   "cell_type": "code",
   "execution_count": null,
   "metadata": {
    "collapsed": true
   },
   "outputs": [],
   "source": []
  }
 ],
 "metadata": {
  "kernelspec": {
   "display_name": "Python 2",
   "language": "python",
   "name": "python2"
  },
  "language_info": {
   "codemirror_mode": {
    "name": "ipython",
    "version": 2
   },
   "file_extension": ".py",
   "mimetype": "text/x-python",
   "name": "python",
   "nbconvert_exporter": "python",
   "pygments_lexer": "ipython2",
   "version": "2.7.10"
  }
 },
 "nbformat": 4,
 "nbformat_minor": 0
}
